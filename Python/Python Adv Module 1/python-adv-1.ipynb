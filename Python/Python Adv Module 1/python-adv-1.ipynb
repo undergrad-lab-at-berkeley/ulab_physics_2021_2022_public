{
 "cells": [
  {
   "cell_type": "markdown",
   "metadata": {},
   "source": [
    "# Advanced Python Module 1: Introduction to numpy\n",
    "\n",
    "Copyright &copy; 2021, Undergraduate Lab at Berkeley\n",
    "\n",
    "In this module, we'll review the basics of the Python module `numpy`, and build the first part of a multi-module project: a simulation of a double pendulum! \n",
    "\n",
    "We have assumed that you are familiar with the following topics:\n",
    "1. the terminal (i.e. Bash)\n",
    "2. Jupyter notebook\n",
    "3. Python basics (including by not limited to):\n",
    "\n",
    "    1. importing modules \n",
    "    2. reading stack traces (error messages)\n",
    "5. Numpy (we will provide an optional introduction below, but lectures 5 and 6 of the beginner track will cover this is greater detail)\n",
    "\n",
    "<video controls src=\"pend.mov\" width=\"600px\"/>"
   ]
  },
  {
   "cell_type": "code",
   "execution_count": null,
   "metadata": {
    "ExecuteTime": {
     "end_time": "2021-09-26T03:28:33.308866Z",
     "start_time": "2021-09-26T03:28:32.731396Z"
    }
   },
   "outputs": [],
   "source": [
    "%load_ext autoreload\n",
    "%autoreload 2\n",
    "\n",
    "import numpy as np\n",
    "import tqdm\n",
    "from matplotlib.pyplot import plot\n",
    "import matplotlib.pyplot as plt\n",
    "import tests"
   ]
  },
  {
   "cell_type": "markdown",
   "metadata": {},
   "source": [
    "## (Optional) Introduction to Numpy\n",
    "\n",
    "numpy (also styled NumPy, for \"Numerical Python\" and usually pronounced \"num-pie\") is a Python module for numerical computing. It provides functions and structures that make it easier to translate math from paper to code. For any mathematical application, it's likely there's a numpy function for it. A major advantage of numpy is its speed: most numpy functions are likely to be much faster than the equivalents that we can write. This is because most of the underlying implementations of these essential math concepts have been done in C, which is a much faster language than Python.\n",
    "\n",
    "A great resource for this module is the [numpy documentation](https://numpy.org/doc/stable/). For any question more advanced than what we cover in these modules, it's generally best to consult the documentation first. As a shortcut, most of the documentation is in the form of *docstrings*, which we can access by calling `help` on anything. This is true of anything in Python: for example, if someone tells you to use a `map` and you want to figure out what that is, the first thing you can do is to call `help`:"
   ]
  },
  {
   "cell_type": "code",
   "execution_count": null,
   "metadata": {
    "ExecuteTime": {
     "end_time": "2021-09-26T02:59:33.052542Z",
     "start_time": "2021-09-26T02:59:33.029419Z"
    }
   },
   "outputs": [],
   "source": [
    "help(map)"
   ]
  },
  {
   "cell_type": "markdown",
   "metadata": {},
   "source": [
    "Throughout this module and future ones, many cells will just need you to run them, without changing any code. Before you run them, we encourage you to guess what they'll do. When you run into something you're seeing for the first time, use the `help` method to see what it does, so you can guess better!"
   ]
  },
  {
   "cell_type": "markdown",
   "metadata": {},
   "source": [
    "## Why do we need numpy?\n",
    "\n",
    "### Speeding things up\n",
    "\n",
    "Suppose we want to generate a list consisting of the first million integers squared. You might write something like this:"
   ]
  },
  {
   "cell_type": "code",
   "execution_count": null,
   "metadata": {
    "ExecuteTime": {
     "end_time": "2021-09-26T03:00:18.528254Z",
     "start_time": "2021-09-26T03:00:17.733831Z"
    }
   },
   "outputs": [],
   "source": [
    "# run me!\n",
    "squares = []\n",
    "for i in tqdm.tqdm(range(10**6)): \n",
    "    # tqdm.tqdm adds a loading bar\n",
    "    # try help(tqdm.tqdm)!\n",
    "    squares.append(i ** 2)"
   ]
  },
  {
   "cell_type": "markdown",
   "metadata": {},
   "source": [
    "Seems okay, but what if we wanted to increase that range from $10^6$ to $10^8$?"
   ]
  },
  {
   "cell_type": "code",
   "execution_count": null,
   "metadata": {
    "ExecuteTime": {
     "end_time": "2021-09-26T03:00:37.361244Z",
     "start_time": "2021-09-26T03:00:25.331375Z"
    }
   },
   "outputs": [],
   "source": [
    "# run me and terminate!\n",
    "# (click the black square marked \"interrupt the kernel\" at the top)\n",
    "squares_longer = []\n",
    "for i in tqdm.tqdm(range(10**8)): \n",
    "    squares_longer.append(i ** 2)"
   ]
  },
  {
   "cell_type": "markdown",
   "metadata": {},
   "source": [
    "You'll see that the progress bar now lasts about a full minute, which is longer than we'd like to wait. If you increase the range a bit more, it becomes completely impractical to wait for this computation. \n",
    "\n",
    "Compare this with the `numpy` version, where we use `np.arange` as a replacement for the builtin `range` object."
   ]
  },
  {
   "cell_type": "code",
   "execution_count": null,
   "metadata": {
    "ExecuteTime": {
     "end_time": "2021-09-26T03:00:49.233516Z",
     "start_time": "2021-09-26T03:00:49.208349Z"
    }
   },
   "outputs": [],
   "source": [
    "%time squares_faster = np.arange(10 ** 6) ** 2\n",
    "# %time is a jupyter-specific macro that times how long the command after it takes"
   ]
  },
  {
   "cell_type": "code",
   "execution_count": null,
   "metadata": {
    "ExecuteTime": {
     "end_time": "2021-09-26T03:00:57.298243Z",
     "start_time": "2021-09-26T03:00:54.306227Z"
    }
   },
   "outputs": [],
   "source": [
    "%time np.arange(10 ** 8) ** 2"
   ]
  },
  {
   "cell_type": "markdown",
   "metadata": {},
   "source": [
    "We can verify that the results are the same both ways, using the `np.allclose` function."
   ]
  },
  {
   "cell_type": "code",
   "execution_count": null,
   "metadata": {
    "ExecuteTime": {
     "end_time": "2021-09-26T03:01:05.783279Z",
     "start_time": "2021-09-26T03:01:05.532313Z"
    }
   },
   "outputs": [],
   "source": [
    "np.allclose(squares, squares_faster)"
   ]
  },
  {
   "cell_type": "markdown",
   "metadata": {},
   "source": [
    "### Complicated math made straightforward\n",
    "\n",
    "numpy is built not only for speed, but for readability: when you write numerical code, you want it to be relatively clear at a glance what you're doing. Note the difference between the `for` loop and the one-line statement for the same numerical result.\n",
    "\n",
    "As a quick example, suppose we wanted to plot a sine wave. This would probably take a couple of loops without numpy, which wouldn't be easy to understand without going through it line by line. By contrast, look at the code below:"
   ]
  },
  {
   "cell_type": "code",
   "execution_count": null,
   "metadata": {
    "ExecuteTime": {
     "end_time": "2021-09-26T03:01:48.431586Z",
     "start_time": "2021-09-26T03:01:48.220588Z"
    }
   },
   "outputs": [],
   "source": [
    "t = np.arange(0, 10, 0.01)\n",
    "plot(t, np.sin(t)) # I imported \"plot\" from another library earlier - this is the topic of a later module!\n",
    "plt.show()"
   ]
  },
  {
   "cell_type": "markdown",
   "metadata": {},
   "source": [
    "This also has the benefit of being easy to edit - if we wanted to change the frequency, amplitude, phase, etc. of the sine wave, those modifications are also easily legible:"
   ]
  },
  {
   "cell_type": "code",
   "execution_count": null,
   "metadata": {
    "ExecuteTime": {
     "end_time": "2021-09-26T03:02:09.862260Z",
     "start_time": "2021-09-26T03:02:09.695757Z"
    }
   },
   "outputs": [],
   "source": [
    "amplitude = 5\n",
    "phase = np.pi\n",
    "freq = 10\n",
    "plot(t, amplitude * np.sin(freq * t - phase))\n",
    "plt.show()"
   ]
  },
  {
   "cell_type": "markdown",
   "metadata": {},
   "source": [
    "### How to work with numpy\n",
    "\n",
    "When working with numpy, the most essential object is the *array*: this is an extension of a Python list, with some added numerical structure. We initialize one like this:"
   ]
  },
  {
   "cell_type": "code",
   "execution_count": null,
   "metadata": {
    "ExecuteTime": {
     "end_time": "2021-09-26T03:02:30.795269Z",
     "start_time": "2021-09-26T03:02:30.789573Z"
    }
   },
   "outputs": [],
   "source": [
    "a = np.array([1, 2, 3])"
   ]
  },
  {
   "cell_type": "markdown",
   "metadata": {},
   "source": [
    "This behaves the same way as the Python list `[1, 2, 3]`: for example, you index into it the same way."
   ]
  },
  {
   "cell_type": "code",
   "execution_count": null,
   "metadata": {
    "ExecuteTime": {
     "end_time": "2021-09-26T03:02:31.871617Z",
     "start_time": "2021-09-26T03:02:31.859793Z"
    }
   },
   "outputs": [],
   "source": [
    "a[0]"
   ]
  },
  {
   "cell_type": "markdown",
   "metadata": {},
   "source": [
    "But there's a lot more we can do with this array! We can add, subtract, multiply, and divide them just like we would with numbers:\n"
   ]
  },
  {
   "cell_type": "code",
   "execution_count": null,
   "metadata": {
    "ExecuteTime": {
     "end_time": "2021-09-26T03:03:11.151368Z",
     "start_time": "2021-09-26T03:03:11.137528Z"
    }
   },
   "outputs": [],
   "source": [
    "a * 2 # multiply each element by 2\n",
    "\n",
    "b = np.array([2, 5, 8])\n",
    "a + b # element-wise add\n",
    "\n",
    "a - b\n",
    "\n",
    "a * b # element-wise product\n",
    "\n",
    "a / b\n",
    "\n",
    "a ** b # [a[0] to the power b[0], a[1] to the power b[1], a[2] to the power b[2]]\n",
    "\n",
    "a @ b # dot product: element-wise multiply, then sum"
   ]
  },
  {
   "cell_type": "markdown",
   "metadata": {},
   "source": [
    "Arrays can be multidimensional, which we specify by passing a list of lists into the `np.array` constructor:\n"
   ]
  },
  {
   "cell_type": "code",
   "execution_count": null,
   "metadata": {
    "ExecuteTime": {
     "end_time": "2021-09-26T03:03:37.313737Z",
     "start_time": "2021-09-26T03:03:37.292617Z"
    }
   },
   "outputs": [],
   "source": [
    "c = np.array([[10 * i + j for i in range(3)] for j in range(3)])\n",
    "c"
   ]
  },
  {
   "cell_type": "markdown",
   "metadata": {},
   "source": [
    "We can ask for the `shape`s of these arrays:\n"
   ]
  },
  {
   "cell_type": "code",
   "execution_count": null,
   "metadata": {
    "ExecuteTime": {
     "end_time": "2021-09-26T03:03:50.952535Z",
     "start_time": "2021-09-26T03:03:50.943214Z"
    }
   },
   "outputs": [],
   "source": [
    "print(a.shape)\n",
    "print(c.shape)"
   ]
  },
  {
   "cell_type": "markdown",
   "metadata": {},
   "source": [
    "Most functions in numpy have an optional `axis` argument that lets you specify the dimensions along which you want the function to work, running from the outermost (0) to the innermost dimension. For example, here we'll use the `np.sum` function. On the 1D arrays we defined before, it'll work as you would expect (and will give the same result as the builtin Python `sum` function):\n"
   ]
  },
  {
   "cell_type": "code",
   "execution_count": null,
   "metadata": {},
   "outputs": [],
   "source": [
    "print(a, \"sums to\", np.sum(a))\n",
    "print(b, \"sums to\", np.sum(b))"
   ]
  },
  {
   "cell_type": "markdown",
   "metadata": {},
   "source": [
    "For the two-dimensional array `c`, we can call `np.sum` without specifying an axis and sum all the elements, or we can sum only over the columns or only over the rows:"
   ]
  },
  {
   "cell_type": "code",
   "execution_count": null,
   "metadata": {},
   "outputs": [],
   "source": [
    "print(\"sum all \", np.sum(c))\n",
    "print(\"sum cols\", np.sum(c, axis=0))\n",
    "print(\"sum rows\", np.sum(c, axis=1))\n",
    "print(\"sum both\", np.sum(c, axis=(0,1))) # does the same as just np.sum(c)"
   ]
  },
  {
   "cell_type": "markdown",
   "metadata": {},
   "source": [
    "There's many other functions that'll be useful: the tasks in the next section will name them as you go. Remember you can always call `help(<function name>)` to get the docstring for that function!"
   ]
  },
  {
   "cell_type": "markdown",
   "metadata": {},
   "source": [
    "## Question 1: Parallel Math Operations (10 pts)\n",
    "\n",
    "Write a numpy expression that computes the following approximation for $e^x$ up to $n$ terms:\n",
    "\n",
    "$$e^x = \\sum_{k=0}^n \\frac{x^k}{k!}$$\n",
    "\n",
    "Your answer should not include any `for` or `while` loops! Check your answer matches with `np.exp(x)`.\n",
    "\n",
    "Maybe look up: `np.sum`, `np.arange`\n",
    "\n",
    "As you work, it may be helpful to run test expressions in separate cells, to check your understanding of what different functions do! For example, you might wonder what you would get if you raised a number to the power of an array, so you could try that out, and if it works as you expect, you can incorporate it in your answer."
   ]
  },
  {
   "cell_type": "code",
   "execution_count": null,
   "metadata": {
    "ExecuteTime": {
     "end_time": "2021-09-26T03:28:39.218328Z",
     "start_time": "2021-09-26T03:28:39.181199Z"
    }
   },
   "outputs": [],
   "source": [
    "# example testing cell\n",
    "0.5 ** np.array([1, 2, 3])"
   ]
  },
  {
   "cell_type": "code",
   "execution_count": null,
   "metadata": {
    "ExecuteTime": {
     "end_time": "2021-09-26T03:28:39.887499Z",
     "start_time": "2021-09-26T03:28:39.854878Z"
    }
   },
   "outputs": [],
   "source": [
    "from scipy.special import factorial # to help with the k! bit\n",
    "\n",
    "def exponential(x, n=10):\n",
    "    # TODO"
   ]
  },
  {
   "cell_type": "code",
   "execution_count": null,
   "metadata": {
    "ExecuteTime": {
     "end_time": "2021-09-26T03:28:40.513766Z",
     "start_time": "2021-09-26T03:28:40.481124Z"
    }
   },
   "outputs": [],
   "source": [
    "'''\n",
    "This should be close to 'e', which we can access as `np.e`\n",
    "(if you've taken Math 1B or similar, you can calculate *how* close it should be)\n",
    "(but that's not in our scope here)\n",
    "'''\n",
    "exponential(1) "
   ]
  },
  {
   "cell_type": "code",
   "execution_count": null,
   "metadata": {
    "ExecuteTime": {
     "end_time": "2021-09-26T03:28:48.531151Z",
     "start_time": "2021-09-26T03:28:48.488655Z"
    }
   },
   "outputs": [],
   "source": [
    "x = np.random.randn()\n",
    "np.isclose(np.exp(x), exponential(x))"
   ]
  },
  {
   "cell_type": "markdown",
   "metadata": {},
   "source": [
    "## The Pendulum Simulation"
   ]
  },
  {
   "cell_type": "markdown",
   "metadata": {},
   "source": [
    "In this module, we'll start to build a simulation of a pendulum with two weights.\n",
    "\n",
    "<img src=\"double_pendulum.png\" width=200 height=200 />\n",
    "\n",
    "Deriving and solving the governing equation for the motion of a pendulum with one weight is covered in introductory classical mechanics classes. If you've taken or are taking Physics 7A, you've likely seen it or will see it soon. However, a pendulum with two weights, where you add a second pendulum supported at the bob of the first and let it swing, is one of the simplest systems that exhibits *chaos* (roughly, this means a system that's exactly predictable from physics displays apparently random behaviour with slightly different initial conditions). So before long, we'll have built some really cool visualizations!"
   ]
  },
  {
   "cell_type": "markdown",
   "metadata": {},
   "source": [
    "## Question 2: Positions (10 pts)\n",
    "\n",
    "The state of a double pendulum is described using its angles from the normal, $\\theta_1$ and $\\theta_2$. We'll want to get the $x$ and $y$ positions of each bob from those angles, so that we can plot them later. To do this, fill in the following function, `positions(angles, lengths)`. \n",
    "\n",
    "Read the docstring below. In the tuples after `np.ndarray` specify the shapes of those arrays. Note that here $N$ (the number of pendulums) isn't given separately: you can infer it from, e.g., `len(angles)`. Although we're only writing a two-pendulum simulation here, someone else may want to come back to this and extend it, so you should write a function that works for any number!\n",
    "\n",
    "Possibly useful functions: `np.sin`, `np.cos`, `np.zeros`. You don't need any mechanics yet, just trigonometry - we'll provide the mechanics information as needed!"
   ]
  },
  {
   "cell_type": "code",
   "execution_count": null,
   "metadata": {
    "ExecuteTime": {
     "end_time": "2021-09-26T03:28:51.503564Z",
     "start_time": "2021-09-26T03:28:51.460584Z"
    }
   },
   "outputs": [],
   "source": [
    "def positions(angles, lengths):\n",
    "    \"\"\"\n",
    "    Finds the positions in (x, y) space of a set of N weights (note: \n",
    "    N can be any positive integer, we are not assuming that we have \n",
    "    specifically 2 weights).\n",
    "    Assumes the fixed point is (0, 0) and +y is up.\n",
    "\n",
    "    Arguments\n",
    "    ---------\n",
    "    angles : np.ndarray, (N,)\n",
    "    The angle of each pendulum with respect to the normal, in radians.\n",
    "\n",
    "    lengths : np.ndarray, (N,)\n",
    "    The length of each pendulum, in meters.\n",
    "\n",
    "    Returns\n",
    "    -------\n",
    "    positions : np.ndarray, (N, 2)\n",
    "    The (x, y) position of each mass.\n",
    "    \"\"\"\n",
    "    \n",
    "    # TODO"
   ]
  },
  {
   "cell_type": "code",
   "execution_count": null,
   "metadata": {
    "ExecuteTime": {
     "end_time": "2021-09-26T03:36:24.419340Z",
     "start_time": "2021-09-26T03:36:24.345764Z"
    }
   },
   "outputs": [],
   "source": [
    "#test your work!\n",
    "tests.run('test_2', positions)"
   ]
  },
  {
   "cell_type": "markdown",
   "metadata": {},
   "source": [
    "Note that the block in triple quotes is this function's docstring, which means it's what gets shown when we call `help`."
   ]
  },
  {
   "cell_type": "code",
   "execution_count": null,
   "metadata": {
    "ExecuteTime": {
     "end_time": "2021-09-26T03:28:52.890384Z",
     "start_time": "2021-09-26T03:28:52.847928Z"
    }
   },
   "outputs": [],
   "source": [
    "help(positions)"
   ]
  },
  {
   "cell_type": "markdown",
   "metadata": {},
   "source": [
    "## Question 3: One-Pendulum Acceleration (10 pts)\n",
    "\n",
    "The case where we have one pendulum is governed by the differential equation\n",
    "\n",
    "\\begin{align*}\n",
    "    a = \\frac{\\mathrm{d}^2 \\theta}{\\mathrm{d} t^2} = -\\frac{g}{l} \\sin\\theta\n",
    "\\end{align*}\n",
    "\n",
    "where $g$ is the acceleration of gravity (on Earth) and $l$ is the length of the pendulum. In physics classes, we solve the equation of motion above by setting $\\sin\\theta \\approx \\theta$ and integrating. However, since we're solving this numerically, we don't have to do that approximation. For now, all we want is to get the acceleration `a` from the other information we have.\n",
    "\n",
    "Fill in the function `get_accel_1(angles, vels, lengths, masses)`, based on the provided docstring. Note that even though these are all size-1 arrays (i.e. just numbers wrapped in numpy arrays), we'll still use the arrays and not the numbers. This lets us keep the same standard when we're writing more complicated functions, so that we don't have to write a bunch of special cases.\n",
    "\n",
    "Use $g=9.81$"
   ]
  },
  {
   "cell_type": "code",
   "execution_count": null,
   "metadata": {
    "ExecuteTime": {
     "end_time": "2021-09-26T03:35:15.751252Z",
     "start_time": "2021-09-26T03:35:15.701889Z"
    }
   },
   "outputs": [],
   "source": [
    "def get_accel_1(angles, vels, lengths, masses):\n",
    "    '''\n",
    "    Finds the acceleration of the single pendulum as a function of the system state.\n",
    "\n",
    "    Arguments\n",
    "    ---------\n",
    "    angles : np.ndarray, (1,)\n",
    "    The angle of the pendulum arm with respect to the normal.\n",
    "\n",
    "    lengths : np.ndarray, (1,)\n",
    "    The length of the pendulum arm.\n",
    "\n",
    "    masses : np.ndarray, (1,)\n",
    "    The mass of the pendulum weight.\n",
    "\n",
    "    vels : np.ndarray, (1,)\n",
    "    The theta-dot of the pendulum arm.\n",
    "\n",
    "    Returns\n",
    "    -------\n",
    "    accels : np.ndarray, (1,)\n",
    "    The net acceleration, in the theta direction, on the mass.\n",
    "    '''\n",
    "    \n",
    "    # TODO"
   ]
  },
  {
   "cell_type": "code",
   "execution_count": null,
   "metadata": {
    "ExecuteTime": {
     "end_time": "2021-09-26T03:36:02.615847Z",
     "start_time": "2021-09-26T03:36:02.535284Z"
    }
   },
   "outputs": [],
   "source": [
    "#test your work!\n",
    "tests.run('test_3', get_accel_1)"
   ]
  },
  {
   "cell_type": "markdown",
   "metadata": {},
   "source": [
    "## Conclusion\n",
    "\n",
    "In this module, we have covered\n",
    "\n",
    "- what numpy is and why it's necessary\n",
    "- carrying out mathematical computations over numpy arrays all at once\n",
    "- multidimensional arrays and the `axis` keyword\n",
    "- two aspects of the pendulum simulation: converting angles to positions, and getting the single-pendulum acceleration\n",
    "\n",
    "In the next module, we'll look at some more numpy features and how they're relevant to the next parts of the pendulum simulation!\n",
    "\n",
    "## Submission: \n",
    "\n",
    "Submit this document as a Python file to bCourses (File/Download As/Python). "
   ]
  }
 ],
 "metadata": {
  "kernelspec": {
   "display_name": "Python 3",
   "language": "python",
   "name": "python3"
  },
  "language_info": {
   "codemirror_mode": {
    "name": "ipython",
    "version": 3
   },
   "file_extension": ".py",
   "mimetype": "text/x-python",
   "name": "python",
   "nbconvert_exporter": "python",
   "pygments_lexer": "ipython3",
   "version": "3.7.4"
  }
 },
 "nbformat": 4,
 "nbformat_minor": 5
}
